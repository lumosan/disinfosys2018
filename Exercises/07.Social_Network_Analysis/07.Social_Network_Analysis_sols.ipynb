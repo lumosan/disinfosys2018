{
 "cells": [
  {
   "cell_type": "markdown",
   "metadata": {},
   "source": [
    "# Exercise 6\n",
    "\n",
    "## Question 1\n",
    "\n",
    "Last week, we have implemented k-means. For this week, we will implement its variance called k-medoids."
   ]
  },
  {
   "cell_type": "code",
   "execution_count": 1,
   "metadata": {
    "collapsed": true
   },
   "outputs": [],
   "source": [
    "import pandas as pd\n",
    "import numpy as np\n",
    "import matplotlib.pyplot as plt\n",
    "import random\n",
    "from sklearn import preprocessing\n",
    "from sklearn.datasets import make_blobs\n",
    "\n",
    "np.random.seed(42)\n",
    "\n",
    "%matplotlib inline\n",
    "\n",
    "def euclidean_distance(point, centroid):\n",
    "    return np.sqrt(np.sum((point - centroid)**2))"
   ]
  },
  {
   "cell_type": "markdown",
   "metadata": {},
   "source": [
    "### SOLUTION\n",
    "\n",
    "Complete the method `choose_centroids` below. Specifically:  \n",
    "\n",
    "*  `choose_centroids(X, labels, num_clusters)` choose a new centroid from the data points in a cluster. The new centroid is the data point that has the lowest sum of distances to other points in the cluster (recall that assignement is represented by the `labels` array).\n"
   ]
  },
  {
   "cell_type": "code",
   "execution_count": 2,
   "metadata": {
    "collapsed": true
   },
   "outputs": [],
   "source": [
    "\"\"\"\n",
    "Calculate the centroid or mean of all objects in each cluster.\n",
    "\"\"\"\n",
    "def choose_centroids(X, labels, num_clusters):\n",
    "    centroids = []\n",
    "    for i in range(num_clusters):\n",
    "        points = X[labels == i]\n",
    "        centroid = points[0]\n",
    "        min_dis = sum(euclidean_distance(centroid, p) for p in points)/len(points)\n",
    "        for candidate_centroid in points:\n",
    "            dis = sum(euclidean_distance(candidate_centroid, p) for p in points)/len(points)\n",
    "            if dis < min_dis:\n",
    "                min_dis = dis\n",
    "                centroid = candidate_centroid\n",
    "        centroids.append(centroid)\n",
    "    return np.array(centroids)"
   ]
  },
  {
   "cell_type": "code",
   "execution_count": 3,
   "metadata": {
    "collapsed": true
   },
   "outputs": [],
   "source": [
    "\"\"\"\n",
    "Generate random 2D data points\n",
    "\"\"\"\n",
    "def gen_data(num_samples,num_blobs=3,random_state=42):\n",
    "    X, y = make_blobs(n_samples=num_samples, random_state=random_state, centers=num_blobs, cluster_std=5.0)\n",
    "    return X,y\n",
    "\n",
    "\"\"\"\n",
    "Compute euclidean distance between a point and a centroid.\n",
    "point,centroid: 1D Numpy array containing coordinates [x,y]\n",
    "\"\"\"\n",
    "\n",
    "def init_centroids(X,num_clusters):\n",
    "    rand_indices = np.random.choice(X.shape[0], num_clusters,replace=False)\n",
    "    return X[rand_indices,:]\n",
    "\n",
    "\"\"\"\n",
    "Assign objects to their closest cluster center according to the Euclidean distance function.\n",
    "\"\"\"\n",
    "def assign_points(X, centroids):\n",
    "    labels = []\n",
    "    for point in range(0, X.shape[0]):\n",
    "        distance = {}\n",
    "        for centroid in range(0, centroids.shape[0]):\n",
    "            distance[centroid] = euclidean_distance(X[point], centroids[centroid])\n",
    "        \n",
    "        index_of_minimum = min(distance, key=distance.get)\n",
    "        labels.append(index_of_minimum)\n",
    "    return np.array(labels)\n",
    "    \n",
    "def k_medoids(X, num_clusters):\n",
    "\n",
    "    # Initialize centroids to randomly chosen data points\n",
    "    centroids  = init_centroids(X,num_clusters)\n",
    "\n",
    "    # Bookkeeping\n",
    "    num_iter  = 0\n",
    "    positions = [centroids]\n",
    "    \n",
    "    while True:\n",
    "        \n",
    "        labels = assign_points(X, centroids)\n",
    "        \n",
    "        new_centroids = choose_centroids(X, labels, num_clusters)\n",
    "        \n",
    "        # Termination criterion\n",
    "        if np.all(centroids == new_centroids):\n",
    "            break\n",
    "            \n",
    "        centroids = new_centroids\n",
    "        positions.append(centroids)\n",
    "        num_iter += 1\n",
    "        \n",
    "    return [labels, centroids, num_iter, positions]"
   ]
  },
  {
   "cell_type": "code",
   "execution_count": 4,
   "metadata": {},
   "outputs": [
    {
     "name": "stdout",
     "output_type": "stream",
     "text": [
      "Convergence in 3 iteration(s)\n"
     ]
    }
   ],
   "source": [
    "num_samples = 150\n",
    "num_blobs   = 3\n",
    "X,y = gen_data(num_samples,num_blobs=num_blobs)\n",
    "\n",
    "total_iterations = 10\n",
    "num_clusters     = 3\n",
    "[cluster_label, new_centroids, num_iter, positions] = k_medoids(X,num_clusters)\n",
    "print(\"Convergence in %i iteration(s)\" % num_iter)"
   ]
  },
  {
   "cell_type": "markdown",
   "metadata": {},
   "source": [
    "### Plotting\n",
    "\n",
    "Cluster centroids are displayed as red circles. Their positions across the various steps of the optimization are displayed as red lines. Data points are colored according to their cluster assignement."
   ]
  },
  {
   "cell_type": "code",
   "execution_count": 5,
   "metadata": {},
   "outputs": [
    {
     "data": {
      "text/plain": [
       "[<matplotlib.lines.Line2D at 0x7fd6008d8710>]"
      ]
     },
     "execution_count": 5,
     "metadata": {},
     "output_type": "execute_result"
    },
    {
     "data": {
      "image/png": "[encoded data removed]",
      "text/plain": [
       "<matplotlib.figure.Figure at 0x7fd600995f98>"
      ]
     },
     "metadata": {},
     "output_type": "display_data"
    }
   ],
   "source": [
    "_ = plt.scatter(X[:, 0], X[:, 1], c=cluster_label)\n",
    "_ = plt.scatter(new_centroids[:,0], new_centroids[:,1], marker='o', s=5, c='r', edgecolors='w', linewidths=2)\n",
    "\n",
    "plt.plot(np.array(positions)[:,0,0],np.array(positions)[:,0,1],'r',linewidth=3)\n",
    "plt.plot(np.array(positions)[:,1,0],np.array(positions)[:,1,1],'r',linewidth=3)\n",
    "plt.plot(np.array(positions)[:,2,0],np.array(positions)[:,2,1],'r',linewidth=3)"
   ]
  },
  {
   "cell_type": "markdown",
   "metadata": {},
   "source": [
    "## Question 2"
   ]
  },
  {
   "cell_type": "markdown",
   "metadata": {},
   "source": [
    "Complete the following method to compute the modularity measure of a graph."
   ]
  },
  {
   "cell_type": "markdown",
   "metadata": {
    "collapsed": true
   },
   "source": [
    "If you haven't installed networkx package, you can run the following command (note the exclamation mark)\n",
    "```python\n",
    "!conda install networkx --yes\n",
    "```"
   ]
  },
  {
   "cell_type": "code",
   "execution_count": 6,
   "metadata": {},
   "outputs": [
    {
     "data": {
      "image/png": "[encoded data removed]",
      "text/plain": [
       "<matplotlib.figure.Figure at 0x7fd60097cd30>"
      ]
     },
     "metadata": {},
     "output_type": "display_data"
    }
   ],
   "source": [
    "import networkx as nx\n",
    "import numpy as np\n",
    "\n",
    "M = [\"0,1,2\",\n",
    "\"1,0,2\",\n",
    "\"2,0,1,3\",\n",
    "\"3,2,4,5\",\n",
    "\"4,3,5\",\n",
    "\"5,3,4\"\n",
    "    ]\n",
    "G=nx.parse_adjlist(M, nodetype=int, delimiter=\",\")\n",
    "nx.draw(G)\n",
    "\n",
    "#G = nx.karate_club_graph()\n",
    "#nx.draw(G)"
   ]
  },
  {
   "cell_type": "code",
   "execution_count": 7,
   "metadata": {},
   "outputs": [
    {
     "data": {
      "text/plain": [
       "7"
      ]
     },
     "execution_count": 7,
     "metadata": {},
     "output_type": "execute_result"
    }
   ],
   "source": [
    "for node in [0,1,2]:\n",
    "    G.nodes[node]['community'] = 0\n",
    "for node in [3,4,5]:\n",
    "    G.nodes[node]['community'] = 1\n",
    "G.degree[2]\n",
    "len(G.edges)"
   ]
  },
  {
   "cell_type": "code",
   "execution_count": 8,
   "metadata": {
    "collapsed": true
   },
   "outputs": [],
   "source": [
    "# The community label of a node can be accessed by G[node_id]['community']\n",
    "# The degree of a node: G.degree[node_id]\n",
    "# The neighbors of a node: G.neighbors(node_id)\n",
    "# Number of edges between 2 nodes: G.number_of_edges(node_1, node_2)\n",
    "def compute_modularity(G):\n",
    "    m = len(G.edges)\n",
    "    Q = 0\n",
    "    for node_i in G.nodes:\n",
    "        for node_j in G.nodes:\n",
    "            if G.nodes[node_i]['community'] == G.nodes[node_j]['community']:\n",
    "                Q += G.number_of_edges(node_i, node_j) - G.degree[node_i]*G.degree[node_j]/(2*m)\n",
    "    return Q/(2*m)"
   ]
  },
  {
   "cell_type": "code",
   "execution_count": 9,
   "metadata": {},
   "outputs": [
    {
     "data": {
      "text/plain": [
       "0.3571428571428571"
      ]
     },
     "execution_count": 9,
     "metadata": {},
     "output_type": "execute_result"
    }
   ],
   "source": [
    "compute_modularity(G)"
   ]
  },
  {
   "cell_type": "markdown",
   "metadata": {
    "collapsed": true
   },
   "source": [
    "## Pen and Paper"
   ]
  },
  {
   "cell_type": "markdown",
   "metadata": {},
   "source": [
    "Suppose that you have an undirected social graph G = (U, V), where U - set of nodes, V - set of edges.\n",
    "\n",
    "<img src=\"graph.png\" width=\"400\">"
   ]
  },
  {
   "cell_type": "markdown",
   "metadata": {},
   "source": [
    "#### Question 2\n",
    "\n",
    "Compute betweenness for the graph G and output the communities for the following betweenness threshold : 4, 6."
   ]
  },
  {
   "cell_type": "markdown",
   "metadata": {},
   "source": [
    "#### SOLUTION\n",
    "\n",
    "Following the Girvan- Newman algorithm, first we visit each node X once and compute the number of shortest paths from X to each of the other nodes. To do so, we run BFS starting at node X.\n",
    "\n",
    "##### Compute Betweenness - Path Counting:\n",
    "\n",
    "Let’s assume we start from the node E. Label each node by the number of shortest paths that reach it from the root ($N_{shortest}$). So, we label the root with 1. We continue top-down. D and F have one parent so they are labeled by the score of their parent. Similarly for B, A and C. However, G has two parents, thus its label is equal to 2. Finally, we need to calculate for each edge e the fraction of shortest paths from X to Y that go through e, e.g., from E to all other nodes.\n",
    "\n",
    "![alt text](path.png \"Title\")\n",
    "\n",
    "#### Compute Betweenness - Edge Flow:\n",
    "\n",
    "1. The flow that arrives at every node is 1.\n",
    "2. In addition each node receives the flow of its children. The flow of its children is distributed over the parents, proportionally to the number of paths that are leading to those parents (previous stage). For example: B: 1 + (1+1) = 3. F = 1 + (½) = 1.5\n",
    "\n",
    "![alt text](flow.png \"Title\")\n",
    "\n",
    "To complete the calculation we need to apply the procedure to every node as the root and sum the contributions. Finally, we need to divide the credit for each edge by 2 since every shortest path is discovered twice, once for each of its endpoints. The final betweenness scores for the edges are the following. \n",
    "\n",
    "![alt text](flow2.png \"Title\")\n",
    "\n",
    "Thus, we obtain the following clusters for the betweenness of 4 and 6.\n",
    "\n",
    "![alt text](b4.png \"Title\")\n",
    "\n",
    "![alt text](b6.png \"Title\")\n"
   ]
  }
 ],
 "metadata": {
  "kernelspec": {
   "display_name": "Python 3",
   "language": "python",
   "name": "python3"
  },
  "language_info": {
   "codemirror_mode": {
    "name": "ipython",
    "version": 3
   },
   "file_extension": ".py",
   "mimetype": "text/x-python",
   "name": "python",
   "nbconvert_exporter": "python",
   "pygments_lexer": "ipython3",
   "version": "3.6.3"
  }
 },
 "nbformat": 4,
 "nbformat_minor": 2
}
