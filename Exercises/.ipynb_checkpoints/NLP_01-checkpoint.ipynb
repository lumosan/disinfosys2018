{
 "cells": [
  {
   "cell_type": "markdown",
   "metadata": {},
   "source": [
    "# NLP - First practical session: Demos"
   ]
  },
  {
   "cell_type": "markdown",
   "metadata": {},
   "source": [
    "## Automated translation\n",
    "\n",
    "As Natural Langage Translation demonstrator, we propose several of those:\n",
    "\n",
    "* Systran demo\n",
    "* Google translator\n",
    "* Bing translator\n",
    "* Yandex\n",
    "* BabelFish\n",
    "\n",
    "The goal of this exercice is to have an engineer look at the automated translation task: evaluate several tools with respect to some objectives. So think about some objective (something between \"provide a rough idea about the content of a web page\" and \"automatic translation of the whole litterature\") and how this objective could be evaluate. Then relate to the evaluation at different NLP levels.\n",
    "\n",
    "1. Start first with a few personnal tests in some of the languages you know.\n",
    "\n",
    "Try to find examples where the system performs well, and then some more problematic examples. Try more specifically to find examples with difficulties in each of the language levels: lexical, syntactic, semantic and pragmatic.\n",
    "\n",
    "Suggestions: «This course is cool.» (from English to another language you now well enough), «Il mange un avocat.» (French to English. Ask for an explanation about French if you do not understand). \n",
    "See also examples below.\n",
    "\n",
    "(A wrongly claimed historical example ; see here for the exaplanation [pdf] by John Hutchin (1995)) Translate the sentence [Mark 14:38 ; Matthew 26:41]\n",
    "\n",
    "The spirit is willing but the flesh is weak.\n",
    "\n",
    "from English to another language and then translate the result back in English.\n",
    "\n",
    "What do you get?\n",
    "\n",
    "Consider now the sentence\n",
    "\n",
    "Time flies like an arrow\n",
    "\n",
    "Why/how could it be a problem?"
   ]
  },
  {
   "cell_type": "markdown",
   "metadata": {},
   "source": [
    "## Language identification"
   ]
  },
  {
   "cell_type": "markdown",
   "metadata": {},
   "source": [
    "## Part-of-Speech tagging (demo)"
   ]
  },
  {
   "cell_type": "markdown",
   "metadata": {},
   "source": [
    "## Positionning of the course wrt ML\n",
    "\n",
    "[Four deep learning trends from ACL 2017 --\n",
    "Part One: Linguistic Structure and Word Embeddings](http://www.abigailsee.com/2017/08/30/four-deep-learning-trends-from-acl-2017-part-1.html)\n",
    "\n",
    "[An Adversarial Review of “Adversarial Generation of Natural Language”](https://medium.com/@yoav.goldberg/an-adversarial-review-of-adversarial-generation-of-natural-language-409ac3378bd7)\n",
    "\n"
   ]
  },
  {
   "cell_type": "code",
   "execution_count": null,
   "metadata": {
    "collapsed": true
   },
   "outputs": [],
   "source": []
  }
 ],
 "metadata": {
  "kernelspec": {
   "display_name": "Python 3",
   "language": "python",
   "name": "python3"
  },
  "language_info": {
   "codemirror_mode": {
    "name": "ipython",
    "version": 3
   },
   "file_extension": ".py",
   "mimetype": "text/x-python",
   "name": "python",
   "nbconvert_exporter": "python",
   "pygments_lexer": "ipython3",
   "version": "3.6.3"
  }
 },
 "nbformat": 4,
 "nbformat_minor": 2
}
